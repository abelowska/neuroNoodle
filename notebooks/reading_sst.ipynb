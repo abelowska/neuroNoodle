{
 "cells": [
  {
   "cell_type": "markdown",
   "id": "ccede655-3da6-4f48-b88b-85c6bfd7ffd2",
   "metadata": {},
   "source": [
    "# Reading data"
   ]
  },
  {
   "cell_type": "code",
   "execution_count": null,
   "id": "cd4c035c-33a2-4ffb-96a3-29957a30addc",
   "metadata": {},
   "outputs": [],
   "source": [
    "import mne\n",
    "import numpy as np\n",
    "import pandas as pd\n",
    "import re"
   ]
  },
  {
   "cell_type": "markdown",
   "id": "cb1c35c5-0284-4e76-b38e-5a3681784841",
   "metadata": {},
   "source": [
    "## Load data"
   ]
  },
  {
   "cell_type": "code",
   "execution_count": null,
   "id": "b8e76716-0838-42bd-b77a-29cd15051c1f",
   "metadata": {},
   "outputs": [],
   "source": [
    "def remove_unnecessary_events(raw, events, events_id, events_names = ['Time 0/', 'New Segment/']):\n",
    "    events_to_remove = []\n",
    "    for event_name in events_names:\n",
    "        events_to_remove.append(events_id[event_name])\n",
    "    \n",
    "    # Filter out the unwanted events\n",
    "    filtered_events = np.array([event.tolist() for event in events if event[2] not in events_to_remove])\n",
    "    filtered_event_id = {key: value for key, value in events_id.items() if value not in events_to_remove}\n",
    "    \n",
    "    new_event_desc = {value:str(key) for key, value in filtered_event_id.items()}\n",
    "    \n",
    "    # Use mne.annotations_from_events to create new annotations\n",
    "    new_annotations = mne.annotations_from_events(filtered_events, sfreq=raw.info['sfreq'], event_desc=new_event_desc)\n",
    "    \n",
    "    # Set new annotations to raw data\n",
    "    raw_copy = raw.copy().set_annotations(new_annotations)\n",
    "\n",
    "    return raw_copy"
   ]
  },
  {
   "cell_type": "code",
   "execution_count": null,
   "id": "d005169c-b13a-4964-ab52-6aff1aec5842",
   "metadata": {},
   "outputs": [],
   "source": [
    "signal_frequency = 64"
   ]
  },
  {
   "cell_type": "code",
   "execution_count": null,
   "id": "dc23e6cd-a753-4243-a7b9-036aa4e131f5",
   "metadata": {},
   "outputs": [],
   "source": [
    "dir = '../data/sst_old'\n",
    "filename = 'AD1406_SST14_Artif Rej 75'\n",
    "# filename2 = 'AB2407_SST14_new_Artif Rej 75'\n",
    "# dir = '../data/gng'\n",
    "# filename = 'GNG_AA0303-64 el'\n",
    "\n",
    "raw = mne.io.read_raw_brainvision(f'{dir}/{filename}.vhdr')\n",
    "events, event_id = mne.events_from_annotations(raw)\n",
    "raw = remove_unnecessary_events(raw, events, event_id)\n",
    "\n",
    "events, event_id = mne.events_from_annotations(raw)"
   ]
  },
  {
   "cell_type": "code",
   "execution_count": null,
   "id": "0f6ef346-e1a2-4947-9c47-aa395dcb43c4",
   "metadata": {},
   "outputs": [],
   "source": [
    "# Define the mapping function using regular expressions\n",
    "def map_event(event):\n",
    "    # Patterns for matching\n",
    "    patterns = {\n",
    "        r'^Stimulus/ 3-B-NOSTOP.*': 'go/nostop',\n",
    "        r'^Stimulus/ 3-B-STOP(\\d+).*': lambda m: f'go/stop/{m.group(1)}',\n",
    "        r'^Stimulus/ 3-R-B-NOSTOP.*': 'response/correct',\n",
    "        r'^Stimulus/ 3-R-B-STOP(\\d+).*': lambda m: f'response/incorrect/{m.group(1)}',\n",
    "        r'^Stimulus/ 3-STOP(\\d+).*': lambda m: f'stop/{m.group(1)}'\n",
    "    }\t\n",
    "    # Check each pattern\n",
    "    for pattern, replacement in patterns.items():\n",
    "        match = re.fullmatch(pattern, event)\n",
    "        if match:\n",
    "            return replacement if not callable(replacement) else replacement(match)\n",
    "    # Default return value if no pattern matches\n",
    "    return 'unknown'\n",
    "\n",
    "# Define the function to categorize events into 'go', 'response', or 'stop'\n",
    "def categorize_type(event_general):\n",
    "    if 'go' in event_general:\n",
    "        return 'go'\n",
    "    elif 'response' in event_general:\n",
    "        return 'response'\n",
    "    elif 'stop' in event_general:\n",
    "        return 'stop'\n",
    "    return 'unknown'\n",
    "\n",
    "# Define the SSD mapping\n",
    "ssd_mapping = {\n",
    "    1: 100,\n",
    "    2: 150,\n",
    "    3: 200,\n",
    "    4: 250,\n",
    "    5: 300,\n",
    "    6: 350,\n",
    "    7: 400\n",
    "}\n",
    "\n",
    "# Define the function to map to SSD values\n",
    "def map_ssd(event_general):\n",
    "    if 'response/incorrect/' in event_general:\n",
    "        match = re.search(r'response/incorrect/(\\d+)', event_general)\n",
    "        if match:\n",
    "            number = int(match.group(1))\n",
    "            return ssd_mapping.get(number, np.nan)  # Use np.nan for missing values\n",
    "    return np.nan"
   ]
  },
  {
   "cell_type": "code",
   "execution_count": null,
   "id": "0ac6547e-8fcb-4ae7-957a-231b7fa1e06f",
   "metadata": {},
   "outputs": [],
   "source": [
    "events_df = pd.DataFrame(events, columns=['latency', 'duration', 'id'])\n",
    "\n",
    "# Invert the dictionary to map IDs to event names\n",
    "id_to_event = {value: key for key, value in event_id.items()}\n",
    "\n",
    "# Create a new 'event' column by mapping 'id' to event names\n",
    "events_df['event'] = events_df['id'].map(id_to_event)\n",
    "events_df['event_general'] = events_df['event'].apply(map_event)\n",
    "events_df['type'] = events_df['event_general'].apply(categorize_type)\n",
    "events_df['ssd'] = events_df['event_general'].apply(map_ssd)\n",
    "\n",
    "# Calculate the mean of the 'ssd' column\n",
    "ssd_mean = np.nanmean(events_df['ssd'])\n",
    "# Create the 'ssd_centered' column by subtracting the mean from each 'ssd' value\n",
    "events_df['ssd_centered'] = events_df['ssd'] - ssd_mean"
   ]
  },
  {
   "cell_type": "code",
   "execution_count": null,
   "id": "8925c658-050b-4d6f-b028-a52c07481f10",
   "metadata": {},
   "outputs": [],
   "source": [
    "events_df"
   ]
  },
  {
   "cell_type": "code",
   "execution_count": null,
   "id": "0aa0a483-6ceb-444c-95e3-d55573e2286d",
   "metadata": {},
   "outputs": [],
   "source": [
    "events_df.to_csv(f'{filename}_events.csv')"
   ]
  },
  {
   "cell_type": "code",
   "execution_count": null,
   "id": "8030b262-9bf5-43e0-b613-d0a753eda754",
   "metadata": {},
   "outputs": [],
   "source": [
    "events_df[events_df['event_general'].str.contains('response/incorrect/')]"
   ]
  },
  {
   "cell_type": "code",
   "execution_count": null,
   "id": "f9750b23-814e-4759-86cd-a9a0f11c024b",
   "metadata": {},
   "outputs": [],
   "source": []
  },
  {
   "cell_type": "code",
   "execution_count": null,
   "id": "40289869-b5e0-41f1-b75f-ea66532fc54a",
   "metadata": {},
   "outputs": [],
   "source": []
  },
  {
   "cell_type": "markdown",
   "id": "1d57677c-d4e1-44c7-aae8-adc52ccf5298",
   "metadata": {},
   "source": [
    "---"
   ]
  },
  {
   "cell_type": "code",
   "execution_count": null,
   "id": "bbdcc993-68cd-481e-9657-dda57748feb9",
   "metadata": {},
   "outputs": [],
   "source": [
    "f = f'{dir}/{filename}.dat'\n",
    "f"
   ]
  },
  {
   "cell_type": "code",
   "execution_count": null,
   "id": "13f94bb6-2c02-495e-95e5-b2cb3a8bde14",
   "metadata": {},
   "outputs": [],
   "source": [
    "# n_data_ch = 1\n",
    "# with open(f, \"rb\") as fid:\n",
    "#     fid.seek(7)\n",
    "#     block = np.empty((n_data_ch, 20))\n",
    "#     for ii in range(20):\n",
    "#         line = fid.readline().decode(\"ASCII\")\n",
    "#         line = line.strip()\n",
    "#         # Not sure why we special-handle the \",\" character here,\n",
    "#         # but let's just keep this for historical and backward-\n",
    "#         # compat reasons  \n",
    "#         if \" \" in line:\n",
    "#             line_data = line.split()\n",
    "#             print(line_data)\n",
    "#         elif \",\" in line:\n",
    "#             # likely exported from BrainVision Analyzer?\n",
    "#             line_data = line.split(\",\")\n",
    "#             print(line_data)\n",
    "#         elif n_data_ch == 1:\n",
    "#             line_data = [line]\n",
    "#         else:\n",
    "#             raise RuntimeError(\n",
    "#                 \"Unknown BrainVision data format encountered. \"\n",
    "#                 \"Please contact the MNE-Python developers.\"\n",
    "#             )\n",
    "#         block[:n_data_ch, ii] = [float(part) for part in line_data]"
   ]
  },
  {
   "cell_type": "code",
   "execution_count": null,
   "id": "ef6453d7-65e9-440e-85d2-cca391b7af8a",
   "metadata": {},
   "outputs": [],
   "source": [
    "raw.info"
   ]
  },
  {
   "cell_type": "code",
   "execution_count": null,
   "id": "69c80f9c-76d2-4245-9e90-6dfc26e2bfb3",
   "metadata": {},
   "outputs": [],
   "source": [
    "fig = raw.plot()"
   ]
  },
  {
   "cell_type": "code",
   "execution_count": null,
   "id": "0e83a237-b552-4f37-a89c-cb0a5bc9e185",
   "metadata": {},
   "outputs": [],
   "source": [
    "tmin, tmax = -0.2, 1.6\n",
    "\n",
    "# Read epochs\n",
    "epochs = mne.Epochs(\n",
    "    raw=raw,\n",
    "    events=events,\n",
    "    event_id=ids,\n",
    "    tmin=tmin,\n",
    "    tmax=tmax,\n",
    "    baseline=None,\n",
    "    reject_by_annotation=True,\n",
    "    preload=True,\n",
    "    event_repeated='merge',\n",
    "    on_missing = \"warn\",\n",
    ")"
   ]
  },
  {
   "cell_type": "code",
   "execution_count": null,
   "id": "40050843-db0d-41ea-9f8f-d7c76bae7fb8",
   "metadata": {},
   "outputs": [],
   "source": [
    "fig = epochs.plot( n_epochs=3, events=True)"
   ]
  },
  {
   "cell_type": "code",
   "execution_count": null,
   "id": "4af60282-1d24-4082-9381-a4537c9bac9f",
   "metadata": {},
   "outputs": [],
   "source": [
    "events[:20,:]"
   ]
  },
  {
   "cell_type": "code",
   "execution_count": null,
   "id": "fe8872e6-f06a-485b-8695-b39c2b5f6108",
   "metadata": {},
   "outputs": [],
   "source": [
    "epochs.metadata"
   ]
  },
  {
   "cell_type": "code",
   "execution_count": null,
   "id": "653a8293-c3c5-41fd-aff6-91daa5d023a5",
   "metadata": {},
   "outputs": [],
   "source": []
  }
 ],
 "metadata": {
  "kernelspec": {
   "display_name": "neuroNoodle",
   "language": "python",
   "name": "neuronoodle"
  },
  "language_info": {
   "codemirror_mode": {
    "name": "ipython",
    "version": 3
   },
   "file_extension": ".py",
   "mimetype": "text/x-python",
   "name": "python",
   "nbconvert_exporter": "python",
   "pygments_lexer": "ipython3",
   "version": "3.9.19"
  }
 },
 "nbformat": 4,
 "nbformat_minor": 5
}
